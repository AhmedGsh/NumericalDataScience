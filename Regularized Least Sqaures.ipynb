{
 "cells": [
  {
   "cell_type": "markdown",
   "metadata": {},
   "source": [
    "# Estimating the  number of bikes to be rented using LLS Regression\n",
    "\n"
   ]
  },
  {
   "cell_type": "code",
   "execution_count": 1,
   "metadata": {},
   "outputs": [],
   "source": [
    "import pandas as pd \n",
    "import numpy as np \n",
    "from numpy.linalg import inv\n",
    "from numpy.linalg import norm\n",
    "from numpy.linalg import qr\n",
    "from numpy.linalg import svd\n",
    "from sklearn.model_selection import train_test_split\n",
    "from sklearn.metrics import mean_squared_error \n",
    "from sklearn.metrics.pairwise import manhattan_distances\n",
    "from sklearn import linear_model"
   ]
  },
  {
   "cell_type": "code",
   "execution_count": 2,
   "metadata": {},
   "outputs": [],
   "source": [
    "#Upload Data\n",
    "data = pd.read_csv(\"../DATASETS/Bike-sharing-Dataset/day.csv\",sep=',',header=None) \n",
    "# Preview Data\n",
    "data"
   ]
  },
  {
   "cell_type": "code",
   "execution_count": 3,
   "metadata": {},
   "outputs": [
    {
     "data": {
      "text/html": [
       "<div>\n",
       "<style scoped>\n",
       "    .dataframe tbody tr th:only-of-type {\n",
       "        vertical-align: middle;\n",
       "    }\n",
       "\n",
       "    .dataframe tbody tr th {\n",
       "        vertical-align: top;\n",
       "    }\n",
       "\n",
       "    .dataframe thead th {\n",
       "        text-align: right;\n",
       "    }\n",
       "</style>\n",
       "<table border=\"1\" class=\"dataframe\">\n",
       "  <thead>\n",
       "    <tr style=\"text-align: right;\">\n",
       "      <th></th>\n",
       "      <th>2</th>\n",
       "      <th>3</th>\n",
       "      <th>4</th>\n",
       "      <th>5</th>\n",
       "      <th>6</th>\n",
       "      <th>7</th>\n",
       "      <th>8</th>\n",
       "      <th>9</th>\n",
       "      <th>10</th>\n",
       "      <th>11</th>\n",
       "      <th>12</th>\n",
       "      <th>15</th>\n",
       "    </tr>\n",
       "  </thead>\n",
       "  <tbody>\n",
       "    <tr>\n",
       "      <th>1</th>\n",
       "      <td>1</td>\n",
       "      <td>0</td>\n",
       "      <td>1</td>\n",
       "      <td>0</td>\n",
       "      <td>6</td>\n",
       "      <td>0</td>\n",
       "      <td>2</td>\n",
       "      <td>0.344167</td>\n",
       "      <td>0.363625</td>\n",
       "      <td>0.805833</td>\n",
       "      <td>0.160446</td>\n",
       "      <td>985</td>\n",
       "    </tr>\n",
       "    <tr>\n",
       "      <th>2</th>\n",
       "      <td>1</td>\n",
       "      <td>0</td>\n",
       "      <td>1</td>\n",
       "      <td>0</td>\n",
       "      <td>0</td>\n",
       "      <td>0</td>\n",
       "      <td>2</td>\n",
       "      <td>0.363478</td>\n",
       "      <td>0.353739</td>\n",
       "      <td>0.696087</td>\n",
       "      <td>0.248539</td>\n",
       "      <td>801</td>\n",
       "    </tr>\n",
       "    <tr>\n",
       "      <th>3</th>\n",
       "      <td>1</td>\n",
       "      <td>0</td>\n",
       "      <td>1</td>\n",
       "      <td>0</td>\n",
       "      <td>1</td>\n",
       "      <td>1</td>\n",
       "      <td>1</td>\n",
       "      <td>0.196364</td>\n",
       "      <td>0.189405</td>\n",
       "      <td>0.437273</td>\n",
       "      <td>0.248309</td>\n",
       "      <td>1349</td>\n",
       "    </tr>\n",
       "    <tr>\n",
       "      <th>4</th>\n",
       "      <td>1</td>\n",
       "      <td>0</td>\n",
       "      <td>1</td>\n",
       "      <td>0</td>\n",
       "      <td>2</td>\n",
       "      <td>1</td>\n",
       "      <td>1</td>\n",
       "      <td>0.2</td>\n",
       "      <td>0.212122</td>\n",
       "      <td>0.590435</td>\n",
       "      <td>0.160296</td>\n",
       "      <td>1562</td>\n",
       "    </tr>\n",
       "    <tr>\n",
       "      <th>5</th>\n",
       "      <td>1</td>\n",
       "      <td>0</td>\n",
       "      <td>1</td>\n",
       "      <td>0</td>\n",
       "      <td>3</td>\n",
       "      <td>1</td>\n",
       "      <td>1</td>\n",
       "      <td>0.226957</td>\n",
       "      <td>0.22927</td>\n",
       "      <td>0.436957</td>\n",
       "      <td>0.1869</td>\n",
       "      <td>1600</td>\n",
       "    </tr>\n",
       "    <tr>\n",
       "      <th>...</th>\n",
       "      <td>...</td>\n",
       "      <td>...</td>\n",
       "      <td>...</td>\n",
       "      <td>...</td>\n",
       "      <td>...</td>\n",
       "      <td>...</td>\n",
       "      <td>...</td>\n",
       "      <td>...</td>\n",
       "      <td>...</td>\n",
       "      <td>...</td>\n",
       "      <td>...</td>\n",
       "      <td>...</td>\n",
       "    </tr>\n",
       "    <tr>\n",
       "      <th>727</th>\n",
       "      <td>1</td>\n",
       "      <td>1</td>\n",
       "      <td>12</td>\n",
       "      <td>0</td>\n",
       "      <td>4</td>\n",
       "      <td>1</td>\n",
       "      <td>2</td>\n",
       "      <td>0.254167</td>\n",
       "      <td>0.226642</td>\n",
       "      <td>0.652917</td>\n",
       "      <td>0.350133</td>\n",
       "      <td>2114</td>\n",
       "    </tr>\n",
       "    <tr>\n",
       "      <th>728</th>\n",
       "      <td>1</td>\n",
       "      <td>1</td>\n",
       "      <td>12</td>\n",
       "      <td>0</td>\n",
       "      <td>5</td>\n",
       "      <td>1</td>\n",
       "      <td>2</td>\n",
       "      <td>0.253333</td>\n",
       "      <td>0.255046</td>\n",
       "      <td>0.59</td>\n",
       "      <td>0.155471</td>\n",
       "      <td>3095</td>\n",
       "    </tr>\n",
       "    <tr>\n",
       "      <th>729</th>\n",
       "      <td>1</td>\n",
       "      <td>1</td>\n",
       "      <td>12</td>\n",
       "      <td>0</td>\n",
       "      <td>6</td>\n",
       "      <td>0</td>\n",
       "      <td>2</td>\n",
       "      <td>0.253333</td>\n",
       "      <td>0.2424</td>\n",
       "      <td>0.752917</td>\n",
       "      <td>0.124383</td>\n",
       "      <td>1341</td>\n",
       "    </tr>\n",
       "    <tr>\n",
       "      <th>730</th>\n",
       "      <td>1</td>\n",
       "      <td>1</td>\n",
       "      <td>12</td>\n",
       "      <td>0</td>\n",
       "      <td>0</td>\n",
       "      <td>0</td>\n",
       "      <td>1</td>\n",
       "      <td>0.255833</td>\n",
       "      <td>0.2317</td>\n",
       "      <td>0.483333</td>\n",
       "      <td>0.350754</td>\n",
       "      <td>1796</td>\n",
       "    </tr>\n",
       "    <tr>\n",
       "      <th>731</th>\n",
       "      <td>1</td>\n",
       "      <td>1</td>\n",
       "      <td>12</td>\n",
       "      <td>0</td>\n",
       "      <td>1</td>\n",
       "      <td>1</td>\n",
       "      <td>2</td>\n",
       "      <td>0.215833</td>\n",
       "      <td>0.223487</td>\n",
       "      <td>0.5775</td>\n",
       "      <td>0.154846</td>\n",
       "      <td>2729</td>\n",
       "    </tr>\n",
       "  </tbody>\n",
       "</table>\n",
       "<p>731 rows × 12 columns</p>\n",
       "</div>"
      ],
      "text/plain": [
       "    2  3   4  5  6  7  8         9         10        11        12    15\n",
       "1    1  0   1  0  6  0  2  0.344167  0.363625  0.805833  0.160446   985\n",
       "2    1  0   1  0  0  0  2  0.363478  0.353739  0.696087  0.248539   801\n",
       "3    1  0   1  0  1  1  1  0.196364  0.189405  0.437273  0.248309  1349\n",
       "4    1  0   1  0  2  1  1       0.2  0.212122  0.590435  0.160296  1562\n",
       "5    1  0   1  0  3  1  1  0.226957   0.22927  0.436957    0.1869  1600\n",
       "..  .. ..  .. .. .. .. ..       ...       ...       ...       ...   ...\n",
       "727  1  1  12  0  4  1  2  0.254167  0.226642  0.652917  0.350133  2114\n",
       "728  1  1  12  0  5  1  2  0.253333  0.255046      0.59  0.155471  3095\n",
       "729  1  1  12  0  6  0  2  0.253333    0.2424  0.752917  0.124383  1341\n",
       "730  1  1  12  0  0  0  1  0.255833    0.2317  0.483333  0.350754  1796\n",
       "731  1  1  12  0  1  1  2  0.215833  0.223487    0.5775  0.154846  2729\n",
       "\n",
       "[731 rows x 12 columns]"
      ]
     },
     "execution_count": 3,
     "metadata": {},
     "output_type": "execute_result"
    }
   ],
   "source": [
    "# Clean data & preview\n",
    "data = data.drop([0,1,13,14],axis=1)  #we need to estimate column 15 = column 13 + column 14 (drop 13, 14)\n",
    "data = data.drop([0],axis=0)\n",
    "data"
   ]
  },
  {
   "cell_type": "code",
   "execution_count": 4,
   "metadata": {},
   "outputs": [
    {
     "name": "stdout",
     "output_type": "stream",
     "text": [
      "<class 'numpy.ndarray'>\n",
      "Feature space: (584, 11)\n",
      "Labels space: (584,)\n"
     ]
    },
    {
     "name": "stderr",
     "output_type": "stream",
     "text": [
      "/Library/Frameworks/Python.framework/Versions/3.7/lib/python3.7/site-packages/ipykernel_launcher.py:2: FutureWarning: Method .as_matrix will be removed in a future version. Use .values instead.\n",
      "  \n"
     ]
    }
   ],
   "source": [
    "#Convert to numpoy matrix\n",
    "data_matrix = data.as_matrix()\n",
    "\n",
    "#convert to float, shuffle  and split\n",
    "data_matrix = data_matrix.astype(float)\n",
    "np.random.shuffle(data_matrix)\n",
    "y = data_matrix[:,11]\n",
    "A = data_matrix[:,:11]\n",
    "\n",
    "\n",
    "A_train, A_test, y_train, y_test = train_test_split(A, y, test_size=0.2, random_state=42)\n",
    "#check\n",
    "print(type(A[1]))\n",
    "print(\"Feature space:\", A_train.shape)\n",
    "print(\"Labels space:\" ,y_train.shape)\n"
   ]
  },
  {
   "cell_type": "markdown",
   "metadata": {},
   "source": [
    "# Linear Least Squares: Backslash method\n",
    "\n",
    "For a linear model: \n",
    "<br>$y=Ax$ where: \n",
    "<br>$y$ is a label vector $\\in R^{m}$  and $A$ is the feature matrix $\\in R^{mxn}$  \n",
    "<br> The optimal solution for  $x$ is  $\\hat{x} = (A^{T}A)^{-1}A^{T}y$ "
   ]
  },
  {
   "cell_type": "code",
   "execution_count": 5,
   "metadata": {},
   "outputs": [
    {
     "name": "stdout",
     "output_type": "stream",
     "text": [
      "Average test  RMS:  861.1879988228834\n",
      "Average train RMS:  895.86815945173\n",
      "Value of weights:  [ 531.12553283 2153.64085211  -31.52781555 -307.66989055   85.83574508\n",
      "  249.8353336  -696.547066    882.52052837 5155.27579969  159.41204802\n",
      " -895.56597293]\n"
     ]
    }
   ],
   "source": [
    "#1/(ATA)\n",
    "AAI = inv(np.matmul(A_train.transpose(), A_train))\n",
    "#ATy\n",
    "Ay = np.matmul(A_train.transpose(),y_train)\n",
    "# Our Linear model weights\n",
    "x = np.matmul(AAI,Ay)\n",
    "\n",
    "#test residual error\n",
    "res_train = np.dot(A_train,x)  - y_train  #Residual error \n",
    "#test residual error\n",
    "res_test = np.dot(A_test,x)  - y_test  #Residual error \n",
    "\n",
    "\n",
    "\n",
    "rms_train = np.sqrt(mean_squared_error(np.dot(A_train,x), y_train))\n",
    "rms_test  = np.sqrt(mean_squared_error(np.dot(A_test ,x), y_test ))\n",
    "\n",
    "\n",
    "print('Average test  RMS: ',  rms_test )\n",
    "print('Average train RMS: ', rms_train)\n",
    "\n",
    "print('Value of weights: ', x)\n",
    "\n",
    "\n",
    "\n"
   ]
  },
  {
   "cell_type": "markdown",
   "metadata": {},
   "source": [
    "#  Linear Least Squares: QR Decomposition\n",
    "\n",
    "When $A$ is decomposed into $A=QR$\n",
    "<br> The optimal solution for  $x$ is   $\\hat{x} = R^{-1}Q^{T}y$ "
   ]
  },
  {
   "cell_type": "code",
   "execution_count": 6,
   "metadata": {},
   "outputs": [
    {
     "name": "stdout",
     "output_type": "stream",
     "text": [
      "Average test  RMS:  861.1879988228422\n",
      "Average train RMS:  895.86815945173\n",
      "Value of weights:  [ 531.12553283 2153.64085211  -31.52781555 -307.66989055   85.83574508\n",
      "  249.8353336  -696.547066    882.52052836 5155.27579969  159.41204802\n",
      " -895.56597293]\n"
     ]
    }
   ],
   "source": [
    "Q, R = qr(A_train)\n",
    "# x = 1/R * Q'y\n",
    "x = np.matmul(inv(R) , np.matmul(Q.transpose(),y_train))\n",
    "\n",
    "#test residual error\n",
    "res_train = np.dot(A_train,x)  - y_train  #Residual error \n",
    "#test residual error\n",
    "res_test = np.dot(A_test,x)  - y_test  #Residual error \n",
    "\n",
    "\n",
    "\n",
    "rms_train = np.sqrt(mean_squared_error(np.dot(A_train,x), y_train))\n",
    "rms_test  = np.sqrt(mean_squared_error(np.dot(A_test ,x), y_test ))\n",
    "\n",
    "\n",
    "print('Average test  RMS: ',  rms_test )\n",
    "print('Average train RMS: ', rms_train)\n",
    "\n",
    "print('Value of weights: ', x)"
   ]
  },
  {
   "cell_type": "markdown",
   "metadata": {},
   "source": [
    "# Linear Least Squares: SVD Decomposition\n",
    "\n",
    "When $A$ is decomposed into $A=U\\Sigma V^{T}$\n",
    "<br> The optimal solution for  $x$ is   $\\hat{x} = V\\Sigma^{-1}U^{T}y$ "
   ]
  },
  {
   "cell_type": "code",
   "execution_count": 7,
   "metadata": {},
   "outputs": [
    {
     "name": "stdout",
     "output_type": "stream",
     "text": [
      "Average test  RMS:  861.1879988228417\n",
      "Average train RMS:  895.86815945173\n",
      "Value of weights:  [ 531.12553283 2153.64085211  -31.52781555 -307.66989055   85.83574508\n",
      "  249.8353336  -696.547066    882.52052836 5155.27579969  159.41204802\n",
      " -895.56597293]\n"
     ]
    }
   ],
   "source": [
    "U, S, V = svd(A_train, full_matrices=False)\n",
    "\n",
    "x = np.matmul(np.matmul(V.transpose(),inv(np.diag(S))), np.matmul(U.transpose(),y_train))\n",
    "\n",
    "\n",
    "#test residual error\n",
    "res_train = np.dot(A_train,x)  - y_train  #Residual error \n",
    "#test residual error\n",
    "res_test = np.dot(A_test,x)  - y_test  #Residual error \n",
    "\n",
    "\n",
    "\n",
    "rms = np.sqrt(mean_squared_error(np.dot(A_train,x), y_train))\n",
    "\n",
    "\n",
    "\n",
    "rms_train = np.sqrt(mean_squared_error(np.dot(A_train,x), y_train))\n",
    "rms_test  = np.sqrt(mean_squared_error(np.dot(A_test ,x), y_test ))\n",
    "\n",
    "\n",
    "print('Average test  RMS: ',  rms_test )\n",
    "print('Average train RMS: ', rms_train)\n",
    "\n",
    "print('Value of weights: ', x)"
   ]
  },
  {
   "cell_type": "markdown",
   "metadata": {},
   "source": [
    "# Tikhonov Regularized Linear Least Squares\n"
   ]
  },
  {
   "cell_type": "code",
   "execution_count": 8,
   "metadata": {},
   "outputs": [
    {
     "name": "stdout",
     "output_type": "stream",
     "text": [
      "Test  RMS:  861.6241366568261\n",
      "Train RMS:  895.8735500796483\n",
      "Value of weights:  [ 531.65991594 2153.82892787  -31.60594536 -307.72162757   85.85383107\n",
      "  250.21521558 -697.25198702 1002.45279161 5018.86105648  166.54507608\n",
      " -893.18522544]\n"
     ]
    }
   ],
   "source": [
    "U, S, V = svd(A_train, full_matrices=False)\n",
    "λ = 0.1\n",
    "inner = np.divide(S, (S**2)+λ**2)\n",
    "x = np.matmul(np.matmul(V.transpose(),np.diag(inner)), np.matmul(U.transpose(),y_train))\n",
    "\n",
    "\n",
    "\n",
    "#test residual error\n",
    "res_train = np.dot(A_train,x)  - y_train  #Residual error \n",
    "#test residual error\n",
    "res_test = np.dot(A_test,x)  - y_test  #Residual error \n",
    "\n",
    "\n",
    "\n",
    "rms_train = np.sqrt(mean_squared_error(np.dot(A_train,x), y_train))\n",
    "rms_test  = np.sqrt(mean_squared_error(np.dot(A_test ,x), y_test ))\n",
    "\n",
    "\n",
    "print('Test  RMS: ',  rms_test )\n",
    "print('Train RMS: ', rms_train)\n",
    "\n",
    "print('Value of weights: ', x)\n",
    "\n",
    "\n",
    "\n"
   ]
  },
  {
   "cell_type": "markdown",
   "metadata": {},
   "source": [
    "# Lasso Regularized Linear Least Squares\n",
    "\n"
   ]
  },
  {
   "cell_type": "code",
   "execution_count": 9,
   "metadata": {},
   "outputs": [
    {
     "name": "stdout",
     "output_type": "stream",
     "text": [
      "Test  RMS:  849.4832360644964\n",
      "Train RMS:  870.669997443745\n",
      "Value of weights:  [  499.10193395  2050.42155592   -32.32493141  -487.17209674\n",
      "    58.69409705   153.6852087   -650.35068256  3002.35910447\n",
      "  2360.77948295 -1000.56263996 -2619.74546344]\n"
     ]
    }
   ],
   "source": [
    "# Use Scikit-Learn for Lasso (Coordinate descent is used)\n",
    "\n",
    "lm = linear_model.Lasso(alpha=0.1)\n",
    "lm.fit(A_train,y_train)\n",
    "rms_train = np.sqrt(mean_squared_error(lm.predict(A_train), y_train))\n",
    "rms_test  = np.sqrt(mean_squared_error(lm.predict(A_test), y_test ))\n",
    "\n",
    "print('Test  RMS: ',  rms_test )\n",
    "print('Train RMS: ', rms_train)\n",
    "print('Value of weights: ', lm.coef_)\n",
    "\n",
    "\n",
    "\n"
   ]
  }
 ],
 "metadata": {
  "kernelspec": {
   "display_name": "Python 3",
   "language": "python",
   "name": "python3"
  },
  "language_info": {
   "codemirror_mode": {
    "name": "ipython",
    "version": 3
   },
   "file_extension": ".py",
   "mimetype": "text/x-python",
   "name": "python",
   "nbconvert_exporter": "python",
   "pygments_lexer": "ipython3",
   "version": "3.7.6"
  }
 },
 "nbformat": 4,
 "nbformat_minor": 4
}
