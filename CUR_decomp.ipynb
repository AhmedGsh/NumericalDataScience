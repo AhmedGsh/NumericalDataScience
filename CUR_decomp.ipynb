{
 "cells": [
  {
   "cell_type": "markdown",
   "metadata": {},
   "source": [
    "\n",
    "Implementation based on \"CUR matrix decompositions for improved data analysis\" by Mahoney and Drineas \n",
    "\n",
    "Paper link: https://www.pnas.org/content/pnas/106/3/697.full.pdf\n",
    "\n",
    "Code: Ahmed Almostafa Gashgash\n"
   ]
  },
  {
   "cell_type": "code",
   "execution_count": 115,
   "metadata": {},
   "outputs": [],
   "source": [
    "import numpy as np\n",
    "import time\n",
    "import random\n",
    "from numpy.linalg import pinv\n",
    "import matplotlib.pyplot as plt\n",
    "\n"
   ]
  },
  {
   "cell_type": "code",
   "execution_count": 86,
   "metadata": {},
   "outputs": [],
   "source": [
    "def column_select(A,k,eps):\n",
    "        \n",
    "        \"\"\"\"\n",
    "        INPUT: A: n x m matrix, rank: desired low rank, eps: error parameter\n",
    "        OUTPUT: returns k most representative columns of matrix A\n",
    "        \"\"\"\n",
    "        \n",
    "        c = (k * np.log(k)) / (eps**2)                                # c=O(klogk/e^2)\n",
    "        U,S,Vt = np.linalg.svd(A,full_matrices = False)             # Compute SVD\n",
    "        Vt = Vt[:k,:]                                               # Truncated columns of V\n",
    "        pr = (1/k)*(Vt**2).sum(axis=0)                              # Prob of keeping jth column of A\n",
    "        pr = [min(1,c*p) for p in pr]\n",
    "        \n",
    "        index_select = [ (random.random() < p) for p in pr]\n",
    "        columns = A[:,index_select]\n",
    "        columns = columns[:,:k]\n",
    "        \n",
    "        return columns\n",
    "    "
   ]
  },
  {
   "cell_type": "code",
   "execution_count": 97,
   "metadata": {},
   "outputs": [],
   "source": [
    "def CUR_decompose(A, rank, eps):\n",
    "    \n",
    "    \"\"\"\n",
    "    INPUT: A: n x m matrix, rank: desired low rank, eps: error parameter\n",
    "    OUTPUT: returns C, U and R resulting from the CUR decomposition of the matrix.\n",
    "    \"\"\"\n",
    "    # Get size\n",
    "    m = A.shape[0]\n",
    "    n = A.shape[1]\n",
    "    k = rank\n",
    "    \n",
    "    # Initialize C and R \n",
    "    C = np.zeros((m, k))\n",
    "    R = np.zeros((rank, n))\n",
    "    \n",
    "    if k>min(m,n):\n",
    "        print(\"ERROR: rank cannot exceed matrix dimensions.\\n\")\n",
    "        return;\n",
    "    \n",
    "    C = column_select(A,k,eps)\n",
    "    R = column_select(A.T,k,eps)\n",
    "    U = pinv(C) @ A @ pinv(R.T)\n",
    "    \n",
    "    return C,U,R\n",
    "        "
   ]
  },
  {
   "cell_type": "code",
   "execution_count": 57,
   "metadata": {},
   "outputs": [],
   "source": [
    "# Example \n",
    "# Upload Data\n",
    "data = pd.read_csv(\"./day.csv\",sep=',',header=None) \n",
    "# Preview Data\n",
    "#data"
   ]
  },
  {
   "cell_type": "code",
   "execution_count": 58,
   "metadata": {},
   "outputs": [],
   "source": [
    "# Clean data & preview\n",
    "data = data.drop([0,1,13,14],axis=1)  \n",
    "data = data.drop([0],axis=0)"
   ]
  },
  {
   "cell_type": "code",
   "execution_count": 35,
   "metadata": {},
   "outputs": [
    {
     "name": "stderr",
     "output_type": "stream",
     "text": [
      "/Library/Frameworks/Python.framework/Versions/3.7/lib/python3.7/site-packages/ipykernel_launcher.py:2: FutureWarning: Method .as_matrix will be removed in a future version. Use .values instead.\n",
      "  \n"
     ]
    }
   ],
   "source": [
    "#Convert to numpoy matrix\n",
    "data_matrix = data.as_matrix()\n",
    "\n",
    "#convert to float, shuffle  and split\n",
    "data_matrix = data_matrix.astype(float)\n",
    "np.random.shuffle(data_matrix)\n",
    "\n",
    "\n",
    "A=data_matrix\n"
   ]
  },
  {
   "cell_type": "code",
   "execution_count": 133,
   "metadata": {},
   "outputs": [
    {
     "name": "stdout",
     "output_type": "stream",
     "text": [
      "[132555.52872527  52110.44832515  17700.07417859  18734.43938461\n",
      "  20102.17902161  16271.28933477   9599.9854207   20113.14024678\n",
      "  20972.35414582  24081.96180435  23993.77807086]\n"
     ]
    }
   ],
   "source": [
    "n_trials = 100 \n",
    "\n",
    "def frobenius_error(A,CUR):\n",
    "    return np.sqrt (((A-CUR)**2).sum())\n",
    "\n",
    "\n",
    "\n",
    "rank_error = np.zeros(11)\n",
    "# alternate rank\n",
    "for k in range(11):\n",
    "    \n",
    "    error = np.zeros(n_trials)\n",
    "\n",
    "    for trial in range(n_trials):\n",
    "        C,U,R = CUR_decompose(A,k+1,1)\n",
    "        error[trial]=frobenius_error(A,C@U@R.T)\n",
    "        \n",
    "    rank_error[k] = np.mean(error)\n",
    "\n",
    "print(rank_error)"
   ]
  },
  {
   "cell_type": "code",
   "execution_count": 139,
   "metadata": {},
   "outputs": [
    {
     "data": {
      "text/plain": [
       "Text(0, 0.5, 'Frobenius Error')"
      ]
     },
     "execution_count": 139,
     "metadata": {},
     "output_type": "execute_result"
    },
    {
     "data": {
      "image/png": "[encoded data removed]",
      "text/plain": [
       "<Figure size 432x288 with 1 Axes>"
      ]
     },
     "metadata": {
      "needs_background": "light"
     },
     "output_type": "display_data"
    }
   ],
   "source": [
    "k = [i+1 for i in range(11)]\n",
    "plt.plot(k, rank_error)\n",
    "plt.xlabel('Rank')\n",
    "plt.ylabel('Frobenius Error')\n"
   ]
  },
  {
   "cell_type": "code",
   "execution_count": null,
   "metadata": {},
   "outputs": [],
   "source": []
  }
 ],
 "metadata": {
  "kernelspec": {
   "display_name": "Python 3",
   "language": "python",
   "name": "python3"
  },
  "language_info": {
   "codemirror_mode": {
    "name": "ipython",
    "version": 3
   },
   "file_extension": ".py",
   "mimetype": "text/x-python",
   "name": "python",
   "nbconvert_exporter": "python",
   "pygments_lexer": "ipython3",
   "version": "3.7.6"
  }
 },
 "nbformat": 4,
 "nbformat_minor": 4
}
